{
 "cells": [
  {
   "cell_type": "code",
   "execution_count": 3,
   "metadata": {},
   "outputs": [],
   "source": [
    "import random \n",
    "\n",
    "def spellWord (n, mixed_cards, between):\n",
    "    for x in range(1,n):\n",
    "        jel = mixed_cards.pop()\n",
    "        between.append(jel)"
   ]
  },
  {
   "cell_type": "code",
   "execution_count": 4,
   "metadata": {},
   "outputs": [
    {
     "name": "stdout",
     "output_type": "stream",
     "text": [
      "['AC', 'AD', 'AS', 'AH', '2C', '2D', '2S', '2H', '3C', '3D', '3S', '3H', '4C', '4D', '4S', '4H', '5C', '5D', '5S', '5H', '6C', '6D', '6S', '6H', '7C', '7D', '7S', '7H', '8C', '8D', '8S', '8H', '9C', '9D', '9S', '9H', '10C', '10D', '10S', '10H', 'JC', 'JD', 'JS', 'JH', 'KC', 'KD', 'KS', 'KH', 'QC', 'QD', 'QS', 'QH']\n",
      "QC QD\n",
      "The taken out card is AD\n",
      "['8H', '6H', 'QH', 'KC', '5D', 'QD', 'AD', 'QC', '4D', '8C', '7C', '7S', 'JH', 'JS', '10C']\n",
      "The chosen card is between QC and QD which is AD\n"
     ]
    }
   ],
   "source": [
    "#creating a card deck\n",
    "suit = ['C', 'D', 'S', 'H']\n",
    "deck = ['A','2','3','4','5','6','7','8','9','10','J','K','Q']\n",
    "cards = []\n",
    "for x in deck:\n",
    "    for y in suit:\n",
    "        cards.append(f\"{x}{y}\")\n",
    "print(cards)\n",
    "\n",
    "#taking out 2 queens card\n",
    "one_queen_card = \"QC\"\n",
    "cards.remove(\"QC\")\n",
    "two_queen_card = \"QD\"\n",
    "cards.remove(\"QD\")\n",
    "print(one_queen_card,two_queen_card)\n",
    "\n",
    "\n",
    "#shuffling the cards randomly\n",
    "random.shuffle(cards)\n",
    "\n",
    "#taking out 13 days randomly\n",
    "cards_13 = random.sample(cards, k=13)\n",
    "\n",
    "#taking out one card from 13\n",
    "one_card = random.choice(cards_13)\n",
    "cards_13.remove(one_card)\n",
    "print(f\"The taken out card is {one_card}\")\n",
    "\n",
    "#putting random card on top of 12 cards\n",
    "random.shuffle(cards_13)\n",
    "\n",
    "\n",
    "#adding the random card to 12 cards\n",
    "mixed_cards = [one_card] + cards_13\n",
    "\n",
    "#adding queen card to mixed cards\n",
    "mixed_cards = [one_queen_card] + mixed_cards + [two_queen_card]\n",
    "\n",
    "#spelling between\n",
    "between = []\n",
    "spellWord(8, mixed_cards, between)\n",
    "new_stack = between + mixed_cards\n",
    "\n",
    "\n",
    "#spelling the\n",
    "the = []\n",
    "spellWord(4, new_stack, the)\n",
    "the_stack = the + new_stack\n",
    "\n",
    "\n",
    "#spelling two\n",
    "two = []\n",
    "spellWord(4, the_stack, two)\n",
    "two_stack = two + the_stack\n",
    "\n",
    "#spelling red\n",
    "red = []\n",
    "spellWord(4, two_stack, red)\n",
    "red_stack = red + two_stack\n",
    "\n",
    "#spelling queens\n",
    "queens = []\n",
    "spellWord(7, red_stack, queens)\n",
    "queen_stack = queens + red_stack\n",
    "\n",
    "\n",
    "print(queen_stack)\n",
    "print(f\"The chosen card is between {one_queen_card} and {two_queen_card} which is {one_card}\")"
   ]
  },
  {
   "cell_type": "code",
   "execution_count": null,
   "metadata": {},
   "outputs": [],
   "source": []
  }
 ],
 "metadata": {
  "kernelspec": {
   "display_name": "Python 3",
   "language": "python",
   "name": "python3"
  },
  "language_info": {
   "codemirror_mode": {
    "name": "ipython",
    "version": 3
   },
   "file_extension": ".py",
   "mimetype": "text/x-python",
   "name": "python",
   "nbconvert_exporter": "python",
   "pygments_lexer": "ipython3",
   "version": "3.7.6"
  }
 },
 "nbformat": 4,
 "nbformat_minor": 4
}
